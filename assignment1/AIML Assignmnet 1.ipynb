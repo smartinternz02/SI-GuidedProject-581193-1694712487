{
 "cells": [
  {
   "cell_type": "code",
   "execution_count": 1,
   "metadata": {},
   "outputs": [],
   "source": [
    "import pandas as pd\n",
    "import numpy as np\n",
    "\n",
    "# Create a 4x4 array of random values\n",
    "data = np.random.rand(4, 4)"
   ]
  },
  {
   "cell_type": "markdown",
   "metadata": {},
   "source": [
    "# Create a DataFrame using the random values"
   ]
  },
  {
   "cell_type": "code",
   "execution_count": 2,
   "metadata": {},
   "outputs": [
    {
     "name": "stdout",
     "output_type": "stream",
     "text": [
      "   Feature1  Feature2  Feature3  Feature4\n",
      "0  0.422922  0.053169  0.428695  0.396269\n",
      "1  0.551762  0.362242  0.159499  0.797774\n",
      "2  0.785036  0.768087  0.448694  0.225508\n",
      "3  0.477206  0.421450  0.092402  0.528205\n"
     ]
    }
   ],
   "source": [
    "df = pd.DataFrame(data, columns=['Feature1', 'Feature2', 'Feature3', 'Feature4'])\n",
    "print(df)\n"
   ]
  },
  {
   "cell_type": "markdown",
   "metadata": {},
   "source": [
    "# Create a DataFrame using the random values and rename columns"
   ]
  },
  {
   "cell_type": "code",
   "execution_count": 3,
   "metadata": {},
   "outputs": [
    {
     "name": "stdout",
     "output_type": "stream",
     "text": [
      "   Random value 1  Random value 2  Random value 3  Random value 4\n",
      "0        0.422922        0.053169        0.428695        0.396269\n",
      "1        0.551762        0.362242        0.159499        0.797774\n",
      "2        0.785036        0.768087        0.448694        0.225508\n",
      "3        0.477206        0.421450        0.092402        0.528205\n"
     ]
    }
   ],
   "source": [
    "df = pd.DataFrame(data, columns=['Random value 1', 'Random value 2', 'Random value 3', 'Random value 4'])\n",
    "print(df)"
   ]
  },
  {
   "cell_type": "markdown",
   "metadata": {},
   "source": [
    "# Get descriptive statistics"
   ]
  },
  {
   "cell_type": "code",
   "execution_count": 4,
   "metadata": {},
   "outputs": [
    {
     "name": "stdout",
     "output_type": "stream",
     "text": [
      "       Random value 1  Random value 2  Random value 3  Random value 4\n",
      "count        4.000000        4.000000        4.000000        4.000000\n",
      "mean         0.559231        0.401237        0.282323        0.486939\n",
      "std          0.159533        0.293064        0.182811        0.241446\n",
      "min          0.422922        0.053169        0.092402        0.225508\n",
      "25%          0.463635        0.284974        0.142725        0.353579\n",
      "50%          0.514484        0.391846        0.294097        0.462237\n",
      "75%          0.610080        0.508109        0.433695        0.595597\n",
      "max          0.785036        0.768087        0.448694        0.797774\n"
     ]
    }
   ],
   "source": [
    "descriptive_stats = df.describe()\n",
    "print(descriptive_stats)"
   ]
  },
  {
   "cell_type": "markdown",
   "metadata": {},
   "source": [
    "# Check for null values"
   ]
  },
  {
   "cell_type": "code",
   "execution_count": 5,
   "metadata": {},
   "outputs": [],
   "source": [
    "null_values = df.isnull().sum()"
   ]
  },
  {
   "cell_type": "markdown",
   "metadata": {},
   "source": [
    "# Get data types of columns"
   ]
  },
  {
   "cell_type": "code",
   "execution_count": 6,
   "metadata": {},
   "outputs": [
    {
     "name": "stdout",
     "output_type": "stream",
     "text": [
      "Null Values:\n",
      "Random value 1    0\n",
      "Random value 2    0\n",
      "Random value 3    0\n",
      "Random value 4    0\n",
      "dtype: int64\n",
      "\n",
      "Data Types:\n",
      "Random value 1    float64\n",
      "Random value 2    float64\n",
      "Random value 3    float64\n",
      "Random value 4    float64\n",
      "dtype: object\n"
     ]
    }
   ],
   "source": [
    "data_types = df.dtypes\n",
    "print(\"Null Values:\")\n",
    "print(null_values)\n",
    "print(\"\\nData Types:\")\n",
    "print(data_types)"
   ]
  },
  {
   "cell_type": "markdown",
   "metadata": {},
   "source": [
    "# Access columns using .loc[] (label-based) method"
   ]
  },
  {
   "cell_type": "code",
   "execution_count": 7,
   "metadata": {},
   "outputs": [],
   "source": [
    "\n",
    "random_value_2_loc = df.loc[:, 'Random value 2']\n",
    "random_value_3_loc = df.loc[:, 'Random value 3']"
   ]
  },
  {
   "cell_type": "markdown",
   "metadata": {},
   "source": [
    "# Access columns using .iloc[] (index-based) method"
   ]
  },
  {
   "cell_type": "code",
   "execution_count": 8,
   "metadata": {},
   "outputs": [
    {
     "name": "stdout",
     "output_type": "stream",
     "text": [
      "Using .loc[]:\n",
      "0    0.053169\n",
      "1    0.362242\n",
      "2    0.768087\n",
      "3    0.421450\n",
      "Name: Random value 2, dtype: float64\n",
      "0    0.428695\n",
      "1    0.159499\n",
      "2    0.448694\n",
      "3    0.092402\n",
      "Name: Random value 3, dtype: float64\n",
      "\n",
      "Using .iloc[]:\n",
      "0    0.053169\n",
      "1    0.362242\n",
      "2    0.768087\n",
      "3    0.421450\n",
      "Name: Random value 2, dtype: float64\n",
      "0    0.428695\n",
      "1    0.159499\n",
      "2    0.448694\n",
      "3    0.092402\n",
      "Name: Random value 3, dtype: float64\n"
     ]
    }
   ],
   "source": [
    "random_value_2_iloc = df.iloc[:, 1]  # 'Random value 2' is the second column, so index 1\n",
    "random_value_3_iloc = df.iloc[:, 2]  # 'Random value 3' is the third column, so index 2\n",
    "print(\"Using .loc[]:\")\n",
    "print(random_value_2_loc)\n",
    "print(random_value_3_loc)\n",
    "print(\"\\nUsing .iloc[]:\")\n",
    "print(random_value_2_iloc)\n",
    "print(random_value_3_iloc)\n"
   ]
  }
 ],
 "metadata": {
  "kernelspec": {
   "display_name": "Python 3",
   "language": "python",
   "name": "python3"
  },
  "language_info": {
   "codemirror_mode": {
    "name": "ipython",
    "version": 3
   },
   "file_extension": ".py",
   "mimetype": "text/x-python",
   "name": "python",
   "nbconvert_exporter": "python",
   "pygments_lexer": "ipython3",
   "version": "3.11.5"
  },
  "orig_nbformat": 4
 },
 "nbformat": 4,
 "nbformat_minor": 2
}
